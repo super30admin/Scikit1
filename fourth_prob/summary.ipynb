{
 "cells": [
  {
   "cell_type": "code",
   "execution_count": 1,
   "metadata": {},
   "outputs": [
    {
     "name": "stdout",
     "output_type": "stream",
     "text": [
      "[ 1.23071715 -0.04010441  2.21970287  1.34966889  1.28429336  0.02248402\n",
      "  1.05726124  1.82403704  1.36824643  1.06766437  1.70031437 -0.07357413\n",
      " -0.15562919 -0.06569402 -0.02128628  1.39659966  2.00022876  1.04812731\n",
      "  1.28102792  1.97283506  0.03184612  1.59830192  0.09450931  1.91807547\n",
      "  1.83296682  1.87877315  1.78781234  2.03362373  0.03594506  0.02619043]\n",
      "model intercept : 0.2525275898181465\n",
      "model coefficients :  [-0.11633479 -0.05977785  0.25491375  0.54759598]\n",
      "Model score :  0.9299538012397455\n"
     ]
    }
   ],
   "source": [
    "#Example 1: Using scikit-learn.\n",
    "\n",
    "# Import packages\n",
    "from sklearn.linear_model import LinearRegression\n",
    "from sklearn.model_selection import train_test_split\n",
    "from sklearn.datasets import load_iris\n",
    "\n",
    "# Load the data\n",
    "irisData = load_iris()\n",
    "\n",
    "# Create feature and target arrays\n",
    "X = irisData.data\n",
    "y = irisData.target\n",
    "\n",
    "# Split data into train and test sets\n",
    "X_train, X_test, y_train, y_test = train_test_split(\n",
    "\tX, y, test_size=0.2, random_state=42)\n",
    "\n",
    "model = LinearRegression()\n",
    "\n",
    "model.fit(X_train, y_train)\n",
    "\n",
    "# predicting on the X_test data set\n",
    "print(model.predict(X_test))\n",
    "\n",
    "# summary of the model\n",
    "print('model intercept :', model.intercept_)\n",
    "print('model coefficients : ', model.coef_)\n",
    "print('Model score : ', model.score(X, y))\n"
   ]
  },
  {
   "cell_type": "code",
   "execution_count": 7,
   "metadata": {},
   "outputs": [
    {
     "name": "stdout",
     "output_type": "stream",
     "text": [
      "   Gender  Age Range  Head Size(cm^3)  Brain Weight(grams)\n",
      "0       1          1             4512                 1530\n",
      "1       1          1             3738                 1297\n",
      "2       1          1             4261                 1335\n",
      "3       1          1             3777                 1282\n",
      "4       1          1             4177                 1590\n",
      "                            OLS Regression Results                            \n",
      "==============================================================================\n",
      "Dep. Variable:              Head_size   R-squared:                       0.639\n",
      "Model:                            OLS   Adj. R-squared:                  0.638\n",
      "Method:                 Least Squares   F-statistic:                     416.5\n",
      "Date:                Sun, 17 Sep 2023   Prob (F-statistic):           5.96e-54\n",
      "Time:                        06:29:27   Log-Likelihood:                -1613.4\n",
      "No. Observations:                 237   AIC:                             3231.\n",
      "Df Residuals:                     235   BIC:                             3238.\n",
      "Df Model:                           1                                         \n",
      "Covariance Type:            nonrobust                                         \n",
      "================================================================================\n",
      "                   coef    std err          t      P>|t|      [0.025      0.975]\n",
      "--------------------------------------------------------------------------------\n",
      "Intercept      520.6101    153.215      3.398      0.001     218.759     822.461\n",
      "Brain_weight     2.4269      0.119     20.409      0.000       2.193       2.661\n",
      "==============================================================================\n",
      "Omnibus:                        2.687   Durbin-Watson:                   1.726\n",
      "Prob(Omnibus):                  0.261   Jarque-Bera (JB):                2.321\n",
      "Skew:                           0.207   Prob(JB):                        0.313\n",
      "Kurtosis:                       3.252   Cond. No.                     1.38e+04\n",
      "==============================================================================\n",
      "\n",
      "Notes:\n",
      "[1] Standard Errors assume that the covariance matrix of the errors is correctly specified.\n",
      "[2] The condition number is large, 1.38e+04. This might indicate that there are\n",
      "strong multicollinearity or other numerical problems.\n"
     ]
    }
   ],
   "source": [
    "#Example 2: Using the summary() method of Stats model package\n",
    "# import packages\n",
    "import numpy as np\n",
    "import pandas as pd\n",
    "import statsmodels.formula.api as smf\n",
    "\n",
    "# loading the csv file\n",
    "df = pd.read_csv('headbrain.csv')\n",
    "print(df.head())\n",
    "\n",
    "# Create a new DataFrame with only the columns you want\n",
    "selected_columns = df[['Head Size(cm^3)', 'Brain Weight(grams)']]\n",
    "\n",
    "# Rename the columns if needed\n",
    "selected_columns.columns = ['Head_size', 'Brain_weight']\n",
    "\n",
    "# Fit the model using the selected columns\n",
    "model = smf.ols(formula='Head_size ~ Brain_weight', data=selected_columns).fit()\n",
    "\n",
    "# Model summary\n",
    "print(model.summary())\n"
   ]
  },
  {
   "cell_type": "markdown",
   "metadata": {},
   "source": [
    "R-squared value: The R-squared value ranges from 0 to 1. An R-squared of 100% indicates that changes in the independent variable completely explain all changes in the dependent variable (s). If the r-squared value is 1, it indicates a perfect fit. The r-squared value in our example is 0.638.\n",
    "\n",
    "F-statistic: The F-statistic compares the combined effect of all variables. Simply put, if your alpha level is greater than your p-value, you should reject the null hypothesis.\n",
    "coef: the coefficients of the regression equation’s independent variables.\n",
    "Our predictions:\n",
    "\n",
    "If we use 0.05 as our significance level, we reject the null hypothesis and accept the alternative hypothesis as p< 0.05. As a result, we can conclude that there is a relation between head size and brain weight."
   ]
  },
  {
   "cell_type": "markdown",
   "metadata": {},
   "source": []
  }
 ],
 "metadata": {
  "kernelspec": {
   "display_name": "base",
   "language": "python",
   "name": "python3"
  },
  "language_info": {
   "codemirror_mode": {
    "name": "ipython",
    "version": 3
   },
   "file_extension": ".py",
   "mimetype": "text/x-python",
   "name": "python",
   "nbconvert_exporter": "python",
   "pygments_lexer": "ipython3",
   "version": "3.9.12"
  },
  "orig_nbformat": 4
 },
 "nbformat": 4,
 "nbformat_minor": 2
}
