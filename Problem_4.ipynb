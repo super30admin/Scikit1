{
 "cells": [
  {
   "cell_type": "code",
   "execution_count": 5,
   "id": "e567584c",
   "metadata": {},
   "outputs": [],
   "source": [
    "from sklearn.linear_model import LinearRegression\n",
    "from sklearn.model_selection import train_test_split\n",
    "from sklearn.datasets import load_iris"
   ]
  },
  {
   "cell_type": "code",
   "execution_count": 6,
   "id": "2234c0f1",
   "metadata": {},
   "outputs": [],
   "source": [
    "irisData = load_iris()"
   ]
  },
  {
   "cell_type": "code",
   "execution_count": 7,
   "id": "d355c9fb",
   "metadata": {},
   "outputs": [],
   "source": [
    "X = irisData.data\n",
    "Y = irisData.target"
   ]
  },
  {
   "cell_type": "code",
   "execution_count": 8,
   "id": "55fb1fad",
   "metadata": {},
   "outputs": [],
   "source": [
    "X_train, X_test, y_train, y_test = train_test_split(X,Y,test_size=0.2, random_state=42)"
   ]
  },
  {
   "cell_type": "code",
   "execution_count": 9,
   "id": "d8124aa4",
   "metadata": {},
   "outputs": [
    {
     "name": "stdout",
     "output_type": "stream",
     "text": [
      "[ 1.23071715 -0.04010441  2.21970287  1.34966889  1.28429336  0.02248402\n",
      "  1.05726124  1.82403704  1.36824643  1.06766437  1.70031437 -0.07357413\n",
      " -0.15562919 -0.06569402 -0.02128628  1.39659966  2.00022876  1.04812731\n",
      "  1.28102792  1.97283506  0.03184612  1.59830192  0.09450931  1.91807547\n",
      "  1.83296682  1.87877315  1.78781234  2.03362373  0.03594506  0.02619043]\n"
     ]
    }
   ],
   "source": [
    "model = LinearRegression()\n",
    "model.fit(X_train,y_train)\n",
    "\n",
    "print(model.predict(X_test))"
   ]
  },
  {
   "cell_type": "code",
   "execution_count": 11,
   "id": "b228430f",
   "metadata": {},
   "outputs": [
    {
     "name": "stdout",
     "output_type": "stream",
     "text": [
      "model intercept : 0.25252758981814694\n",
      "model coefficients : [-0.11633479 -0.05977785  0.25491375  0.54759598]\n",
      "model score : 0.9299538012397455\n"
     ]
    }
   ],
   "source": [
    "print('model intercept :', model.intercept_)\n",
    "print('model coefficients :', model.coef_)\n",
    "print('model score :', model.score(X,Y))"
   ]
  },
  {
   "cell_type": "code",
   "execution_count": null,
   "id": "17677437",
   "metadata": {},
   "outputs": [],
   "source": [
    "###############"
   ]
  },
  {
   "cell_type": "code",
   "execution_count": 14,
   "id": "5e101ee3",
   "metadata": {},
   "outputs": [
    {
     "name": "stdout",
     "output_type": "stream",
     "text": [
      "                             OLS Regression Results                            \n",
      "===============================================================================\n",
      "Dep. Variable:     years_of_experience   R-squared:                       1.000\n",
      "Model:                             OLS   Adj. R-squared:                  1.000\n",
      "Method:                  Least Squares   F-statistic:                 6.107e+30\n",
      "Date:                 Wed, 20 Dec 2023   Prob (F-statistic):          8.05e-121\n",
      "Time:                         18:14:18   Log-Likelihood:                 319.30\n",
      "No. Observations:                   10   AIC:                            -634.6\n",
      "Df Residuals:                        8   BIC:                            -634.0\n",
      "Df Model:                            1                                         \n",
      "Covariance Type:             nonrobust                                         \n",
      "==============================================================================\n",
      "                 coef    std err          t      P>|t|      [0.025      0.975]\n",
      "------------------------------------------------------------------------------\n",
      "Intercept     -4.0000   4.02e-15  -9.96e+14      0.000      -4.000      -4.000\n",
      "salaries       0.0002   8.09e-20   2.47e+15      0.000       0.000       0.000\n",
      "==============================================================================\n",
      "Omnibus:                        0.530   Durbin-Watson:                   0.073\n",
      "Prob(Omnibus):                  0.767   Jarque-Bera (JB):                0.264\n",
      "Skew:                          -0.344   Prob(JB):                        0.876\n",
      "Kurtosis:                       2.598   Cond. No.                     1.71e+05\n",
      "==============================================================================\n",
      "\n",
      "Notes:\n",
      "[1] Standard Errors assume that the covariance matrix of the errors is correctly specified.\n",
      "[2] The condition number is large, 1.71e+05. This might indicate that there are\n",
      "strong multicollinearity or other numerical problems.\n"
     ]
    },
    {
     "name": "stderr",
     "output_type": "stream",
     "text": [
      "C:\\ProgramData\\anaconda3\\Lib\\site-packages\\scipy\\stats\\_stats_py.py:1806: UserWarning: kurtosistest only valid for n>=20 ... continuing anyway, n=10\n",
      "  warnings.warn(\"kurtosistest only valid for n>=20 ... continuing \"\n"
     ]
    }
   ],
   "source": [
    "import numpy as np\n",
    "import pandas as pd\n",
    "import statsmodels.formula.api as smf\n",
    "\n",
    "dataset = pd.DataFrame({'years_of_experience':[1,2,3,4,5,6,7,8,9,10],'salaries':[25000,30000,35000,40000,45000,50000,55000,60000,65000,70000]})\n",
    "\n",
    "# df.columns = ['years_of_experience','salaries']\n",
    "model = smf.ols(formula='years_of_experience ~ salaries',data=dataset).fit()\n",
    "\n",
    "print(model.summary())"
   ]
  },
  {
   "cell_type": "code",
   "execution_count": null,
   "id": "cb8341dc",
   "metadata": {},
   "outputs": [],
   "source": []
  }
 ],
 "metadata": {
  "kernelspec": {
   "display_name": "Python 3 (ipykernel)",
   "language": "python",
   "name": "python3"
  },
  "language_info": {
   "codemirror_mode": {
    "name": "ipython",
    "version": 3
   },
   "file_extension": ".py",
   "mimetype": "text/x-python",
   "name": "python",
   "nbconvert_exporter": "python",
   "pygments_lexer": "ipython3",
   "version": "3.11.5"
  }
 },
 "nbformat": 4,
 "nbformat_minor": 5
}
