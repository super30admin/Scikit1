{
  "nbformat": 4,
  "nbformat_minor": 0,
  "metadata": {
    "colab": {
      "provenance": []
    },
    "kernelspec": {
      "name": "python3",
      "display_name": "Python 3"
    },
    "language_info": {
      "name": "python"
    }
  },
  "cells": [
    {
      "cell_type": "markdown",
      "source": [
        "## Problem 1 : Save and Load Machine Learning Models in Python with scikit-learn (https://www.geeksforgeeks.org/save-and-load-machine-learning-models-in-python-with-scikit-learn/)\n"
      ],
      "metadata": {
        "id": "CuEmGZyDL2Et"
      }
    },
    {
      "cell_type": "code",
      "execution_count": 2,
      "metadata": {
        "colab": {
          "base_uri": "https://localhost:8080/"
        },
        "id": "msGn0tUbKwZC",
        "outputId": "bda24283-3284-46fc-c8c9-9d3d69adab23"
      },
      "outputs": [
        {
          "output_type": "stream",
          "name": "stdout",
          "text": [
            "root mean squared error :  71.23878018173228\n"
          ]
        }
      ],
      "source": [
        "# import packages\n",
        "import pandas as pd\n",
        "import numpy as np\n",
        "import matplotlib.pyplot as plt\n",
        "from sklearn.model_selection import train_test_split\n",
        "from sklearn.linear_model import LinearRegression\n",
        "from sklearn import metrics\n",
        "import pickle\n",
        "\n",
        "# import the dataset\n",
        "dataset = pd.read_csv('/content/sample_data/headbrain.csv')\n",
        "\n",
        "X = dataset.iloc[:, : -1].values\n",
        "Y = dataset.iloc[:, -1].values\n",
        "\n",
        "# train test split\n",
        "X_train, X_test, y_train, y_test = train_test_split(\n",
        "\tX, Y, test_size=0.2, random_state=0)\n",
        "\n",
        "# create a linear regression model\n",
        "regressor = LinearRegression()\n",
        "regressor.fit(X_train, y_train)\n",
        "\n",
        "\n",
        "# save the model\n",
        "filename = 'linear_model.sav'\n",
        "pickle.dump(regressor, open(filename, 'wb'))\n",
        "\n",
        "# load the model\n",
        "load_model = pickle.load(open(filename, 'rb'))\n",
        "\n",
        "y_pred = load_model.predict(X_test)\n",
        "print('root mean squared error : ', np.sqrt(\n",
        "\tmetrics.mean_squared_error(y_test, y_pred)))\n"
      ]
    },
    {
      "cell_type": "code",
      "source": [
        "# import packages\n",
        "import pandas as pd\n",
        "import numpy as np\n",
        "import matplotlib.pyplot as plt\n",
        "from sklearn.model_selection import train_test_split\n",
        "from sklearn.linear_model import LinearRegression\n",
        "from sklearn import metrics\n",
        "import joblib\n",
        "\n",
        "# import the dataset\n",
        "dataset = pd.read_csv('/content/sample_data/headbrain.csv')\n",
        "\n",
        "X = dataset.iloc[:, : -1].values\n",
        "Y = dataset.iloc[:, -1].values\n",
        "\n",
        "# train test split\n",
        "X_train, X_test, y_train, y_test = train_test_split(\n",
        "\tX, Y, test_size=0.2, random_state=0)\n",
        "\n",
        "# create a linear regression model\n",
        "regressor = LinearRegression()\n",
        "regressor.fit(X_train, y_train)\n",
        "\n",
        "\n",
        "# save the model\n",
        "filename = 'linear_model_2.sav'\n",
        "joblib.dump(regressor, open(filename, 'wb'))\n",
        "\n",
        "# load the model\n",
        "load_model = joblib.load(open(filename, 'rb'))\n",
        "\n",
        "y_pred = load_model.predict(X_test)\n",
        "print('root mean squared error : ', np.sqrt(\n",
        "\tmetrics.mean_squared_error(y_test, y_pred)))\n"
      ],
      "metadata": {
        "colab": {
          "base_uri": "https://localhost:8080/"
        },
        "id": "4kaZ8XXQLb3c",
        "outputId": "d7d8d743-37f5-4b59-c61b-806f0a3c566a"
      },
      "execution_count": 3,
      "outputs": [
        {
          "output_type": "stream",
          "name": "stdout",
          "text": [
            "root mean squared error :  71.23878018173228\n"
          ]
        }
      ]
    }
  ]
}