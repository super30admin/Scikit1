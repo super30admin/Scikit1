{
  "nbformat": 4,
  "nbformat_minor": 0,
  "metadata": {
    "colab": {
      "provenance": []
    },
    "kernelspec": {
      "name": "python3",
      "display_name": "Python 3"
    },
    "language_info": {
      "name": "python"
    }
  },
  "cells": [
    {
      "cell_type": "markdown",
      "source": [
        "## 4 Problem 4 : How to Get Regression Model Summary from Scikit-Learn (https://www.geeksforgeeks.org/how-to-get-regression-model-summary-from-scikit-learn/)"
      ],
      "metadata": {
        "id": "sHNpUM-Iad7d"
      }
    },
    {
      "cell_type": "code",
      "execution_count": 7,
      "metadata": {
        "colab": {
          "base_uri": "https://localhost:8080/"
        },
        "id": "dfJK8DUFaZwH",
        "outputId": "bd9ee9aa-ba58-4ce6-a50f-e10b45f8e98f"
      },
      "outputs": [
        {
          "output_type": "stream",
          "name": "stdout",
          "text": [
            "[ 1.23071715 -0.04010441  2.21970287  1.34966889  1.28429336  0.02248402\n",
            "  1.05726124  1.82403704  1.36824643  1.06766437  1.70031437 -0.07357413\n",
            " -0.15562919 -0.06569402 -0.02128628  1.39659966  2.00022876  1.04812731\n",
            "  1.28102792  1.97283506  0.03184612  1.59830192  0.09450931  1.91807547\n",
            "  1.83296682  1.87877315  1.78781234  2.03362373  0.03594506  0.02619043]\n",
            "model intercept : 0.2525275898181484\n",
            "model coefficients :  [-0.11633479 -0.05977785  0.25491375  0.54759598]\n",
            "Model score :  0.9299538012397455\n"
          ]
        }
      ],
      "source": [
        "# Import packages\n",
        "from sklearn.linear_model import LinearRegression\n",
        "from sklearn.model_selection import train_test_split\n",
        "from sklearn.datasets import load_iris\n",
        "\n",
        "# Load the data\n",
        "irisData = load_iris()\n",
        "\n",
        "# Create feature and target arrays\n",
        "X = irisData.data\n",
        "y = irisData.target\n",
        "\n",
        "# Split data into train and test sets\n",
        "X_train, X_test, y_train, y_test = train_test_split(\n",
        "\tX, y, test_size=0.2, random_state=42)\n",
        "\n",
        "model = LinearRegression()\n",
        "\n",
        "model.fit(X_train, y_train)\n",
        "\n",
        "# predicting on the X_test data set\n",
        "print(model.predict(X_test))\n",
        "\n",
        "# summary of the model\n",
        "print('model intercept :', model.intercept_)\n",
        "print('model coefficients : ', model.coef_)\n",
        "print('Model score : ', model.score(X, y))\n"
      ]
    }
  ]
}